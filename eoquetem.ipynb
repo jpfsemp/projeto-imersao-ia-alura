{
  "nbformat": 4,
  "nbformat_minor": 0,
  "metadata": {
    "colab": {
      "provenance": [],
      "mount_file_id": "https://github.com/jpfsemp/projeto-imersao-ia-alura/blob/main/eoquetem.ipynb",
      "authorship_tag": "ABX9TyNH/Gvbj0omgdZBlIeRjTF2",
      "include_colab_link": true
    },
    "kernelspec": {
      "name": "python3",
      "display_name": "Python 3"
    },
    "language_info": {
      "name": "python"
    }
  },
  "cells": [
    {
      "cell_type": "markdown",
      "metadata": {
        "id": "view-in-github",
        "colab_type": "text"
      },
      "source": [
        "<a href=\"https://colab.research.google.com/github/jpfsemp/projeto-imersao-ia-alura/blob/main/eoquetem.ipynb\" target=\"_parent\"><img src=\"https://colab.research.google.com/assets/colab-badge.svg\" alt=\"Open In Colab\"/></a>"
      ]
    },
    {
      "cell_type": "code",
      "execution_count": 135,
      "metadata": {
        "id": "YTNso6xrjB1F"
      },
      "outputs": [],
      "source": [
        "!pip install -q -U google-generativeai"
      ]
    },
    {
      "cell_type": "code",
      "source": [
        "import os\n",
        "import google.generativeai as genai\n",
        "from google.colab import output\n",
        "from google.colab import userdata\n",
        "\n",
        "GOOGLE_API_KEY=userdata.get('GOOGLE_API_KEY')\n",
        "genai.configure(api_key=GOOGLE_API_KEY)"
      ],
      "metadata": {
        "id": "dNNf811ml3Mt"
      },
      "execution_count": 136,
      "outputs": []
    },
    {
      "cell_type": "code",
      "source": [
        "\n",
        "# Set up the model\n",
        "generation_config = {\n",
        "  \"temperature\": 0.5,\n",
        "  # \"top_p\": 0.95,\n",
        "  # \"top_k\": 0,\n",
        "  # \"max_output_tokens\": 1024,\n",
        "}\n",
        "\n",
        "safety_settings = [\n",
        "  {\n",
        "    \"category\": \"HARM_CATEGORY_HARASSMENT\",\n",
        "    \"threshold\": \"BLOCK_MEDIUM_AND_ABOVE\"\n",
        "  },\n",
        "  {\n",
        "    \"category\": \"HARM_CATEGORY_HATE_SPEECH\",\n",
        "    \"threshold\": \"BLOCK_MEDIUM_AND_ABOVE\"\n",
        "  },\n",
        "  {\n",
        "    \"category\": \"HARM_CATEGORY_SEXUALLY_EXPLICIT\",\n",
        "    \"threshold\": \"BLOCK_MEDIUM_AND_ABOVE\"\n",
        "  },\n",
        "  {\n",
        "    \"category\": \"HARM_CATEGORY_DANGEROUS_CONTENT\",\n",
        "    \"threshold\": \"BLOCK_MEDIUM_AND_ABOVE\"\n",
        "  },\n",
        "]\n"
      ],
      "metadata": {
        "id": "ZoQZSrfQnI6a"
      },
      "execution_count": 137,
      "outputs": []
    },
    {
      "cell_type": "code",
      "source": [
        "model = genai.GenerativeModel(model_name=\"gemini-1.5-pro-latest\",\n",
        "                              generation_config=generation_config,\n",
        "                              safety_settings=safety_settings)"
      ],
      "metadata": {
        "id": "z6gMgsfRnoJB"
      },
      "execution_count": 138,
      "outputs": []
    },
    {
      "cell_type": "code",
      "source": [
        "chat = model.start_chat(history=[])"
      ],
      "metadata": {
        "id": "AC46C29kt0vm"
      },
      "execution_count": 139,
      "outputs": []
    },
    {
      "cell_type": "markdown",
      "source": [
        "# Carregando imagem"
      ],
      "metadata": {
        "id": "tmb9TGEouwlk"
      }
    },
    {
      "cell_type": "code",
      "source": [
        "print(\"Faça o upload de uma imagem com o nome foods.jpeg\")\n",
        "\n",
        "prompt_parts = [\n",
        " \"Algumas imagens de posições diferentes dos mesmos produtos\",\n",
        "  genai.upload_file(\"./img1.jpeg\"),\n",
        "  genai.upload_file(\"./img2.jpeg\"),\n",
        "  genai.upload_file(\"./img3.jpeg\"),\n",
        " \"Liste todos alimentos visíveis sem falar a marca do produto\",\n",
        " \"Caso algum produto não esteja fácil de indentificar, não realize nenhuma previsão apenas indique que algum produto não foi possível indentificar como observação\"\n",
        "\n",
        "]"
      ],
      "metadata": {
        "id": "_JpBU0v_uv4X",
        "colab": {
          "base_uri": "https://localhost:8080/"
        },
        "outputId": "d50ce171-f586-4a9a-9e8d-3e27f32fae03"
      },
      "execution_count": 140,
      "outputs": [
        {
          "output_type": "stream",
          "name": "stdout",
          "text": [
            "Faça o upload de uma imagem com o nome foods.jpeg\n"
          ]
        }
      ]
    },
    {
      "cell_type": "code",
      "source": [
        "# @title Show List\n",
        "prompt = prompt_parts\n",
        "response = chat.send_message(prompt)\n",
        "\n",
        "print(\"------------------------------ Lista --------------------------------------\")\n",
        "print(\"---------------------------------------------------------------------------\")\n",
        "print(response.text)\n",
        "print(\"---------------------------------------------------------------------------\")\n",
        "print(\"---------------------------------------------------------------------------\")\n",
        "\n"
      ],
      "metadata": {
        "colab": {
          "base_uri": "https://localhost:8080/",
          "height": 295
        },
        "id": "-OSweTMEImb6",
        "outputId": "ac18b122-c991-47e1-a542-ea5508166c61"
      },
      "execution_count": 141,
      "outputs": [
        {
          "output_type": "stream",
          "name": "stdout",
          "text": [
            "------------------------------ Lista --------------------------------------\n",
            "---------------------------------------------------------------------------\n",
            "* molho de tomate\n",
            "* leite integral\n",
            "* milho verde\n",
            "* ovos\n",
            "* mostarda\n",
            "* maionese\n",
            "* creme de leite\n",
            "* leite de coco\n",
            "* macarrão espaguete \n",
            "* achocolatado\n",
            "\n",
            "**Observação:** Há um produto que não foi possível identificar na imagem.\n",
            "---------------------------------------------------------------------------\n",
            "---------------------------------------------------------------------------\n"
          ]
        }
      ]
    },
    {
      "cell_type": "code",
      "source": [
        "correct = input(\"Está correto(n/s)? \\n\")\n",
        "\n",
        "if(correct == 'n'):\n",
        "  prompt = input(\"Indique quais produtos você quer trocar, adicionar ou retirar da lista? \")\n",
        "  response = chat.send_message(\"Refaça a lista com a sugestão a seguir e não mostre mais que itens não foram encotrados\" + prompt)\n",
        "  output.clear()\n",
        "  print(\"---------------------------Lista Corrigida---------------------------------\")\n",
        "  print(\"---------------------------------------------------------------------------\")\n",
        "  print(response.text)\n",
        "  print(\"---------------------------------------------------------------------------\")\n",
        "  print(\"---------------------------------------------------------------------------\")\n",
        "\n"
      ],
      "metadata": {
        "colab": {
          "base_uri": "https://localhost:8080/",
          "height": 277
        },
        "id": "A3SBEdQDLndw",
        "outputId": "884e6736-9f59-4448-fd03-b2966d72905d"
      },
      "execution_count": 142,
      "outputs": [
        {
          "output_type": "stream",
          "name": "stdout",
          "text": [
            "---------------------------Lista Corrigida---------------------------------\n",
            "---------------------------------------------------------------------------\n",
            "* molho de tomate\n",
            "* leite integral\n",
            "* milho verde\n",
            "* ovos\n",
            "* mostarda\n",
            "* maionese\n",
            "* creme de leite\n",
            "* leite de coco\n",
            "* macarrão espaguete \n",
            "* geleia de uva \n",
            "\n",
            "---------------------------------------------------------------------------\n",
            "---------------------------------------------------------------------------\n"
          ]
        }
      ]
    },
    {
      "cell_type": "code",
      "source": [
        "prompt = \"Apresente 3 receitas apenas com os ingredientes listados. Indique no título se a receita é doce ou salgada\"\n",
        "response = chat.send_message(prompt)\n",
        "print(response.text)\n"
      ],
      "metadata": {
        "id": "NMy3JYU0un4T",
        "colab": {
          "base_uri": "https://localhost:8080/",
          "height": 1000
        },
        "outputId": "afbe5c86-7a37-462f-e249-a2478f3f646b"
      },
      "execution_count": 143,
      "outputs": [
        {
          "output_type": "stream",
          "name": "stdout",
          "text": [
            "## Receita Salgada: Macarrão Cremoso com Milho\n",
            "\n",
            "**Ingredientes:**\n",
            "\n",
            "* 1 pacote de macarrão espaguete\n",
            "* 2 espigas de milho verde\n",
            "* 1/2 caixa de creme de leite\n",
            "* 1/4 xícara de leite integral\n",
            "* 1 colher de sopa de manteiga\n",
            "* Sal e pimenta a gosto\n",
            "\n",
            "**Modo de preparo:**\n",
            "\n",
            "1. Cozinhe o macarrão espaguete de acordo com as instruções da embalagem.\n",
            "2. Enquanto o macarrão cozinha, retire os grãos de milho das espigas.\n",
            "3. Em uma panela, derreta a manteiga e adicione o milho. Refogue por alguns minutos.\n",
            "4. Adicione o creme de leite e o leite integral ao milho refogado. Tempere com sal e pimenta a gosto.\n",
            "5. Escorra o macarrão e adicione ao molho cremoso de milho. Misture bem.\n",
            "6. Sirva quente.\n",
            "\n",
            "\n",
            "## Receita Salgada: Omelete de Milho\n",
            "\n",
            "**Ingredientes:**\n",
            "\n",
            "* 2 ovos\n",
            "* 1/2 espiga de milho verde\n",
            "* 1 colher de sopa de manteiga\n",
            "* Sal e pimenta a gosto\n",
            "\n",
            "**Modo de preparo:**\n",
            "\n",
            "1. Retire os grãos de milho da espiga.\n",
            "2. Em uma tigela, bata os ovos com um garfo. Tempere com sal e pimenta a gosto.\n",
            "3. Derreta a manteiga em uma frigideira.\n",
            "4. Adicione o milho à frigideira e refogue por alguns minutos.\n",
            "5. Despeje os ovos batidos sobre o milho.\n",
            "6. Cozinhe em fogo baixo até que a omelete esteja firme.\n",
            "7. Sirva quente.\n",
            "\n",
            "\n",
            "## Receita Doce: Creme de Milho com Geleia de Uva\n",
            "\n",
            "**Ingredientes:**\n",
            "\n",
            "* 2 espigas de milho verde\n",
            "* 1/2 caixa de leite condensado\n",
            "* 1/2 caixa de creme de leite\n",
            "* 1/2 xícara de leite integral\n",
            "* Geleia de uva a gosto\n",
            "\n",
            "**Modo de preparo:**\n",
            "\n",
            "1. Retire os grãos de milho das espigas.\n",
            "2. Bata no liquidificador o milho, o leite condensado, o creme de leite e o leite integral até obter um creme homogêneo.\n",
            "3. Despeje o creme em taças ou copos individuais.\n",
            "4. Leve à geladeira por pelo menos 2 horas.\n",
            "5. Sirva gelado com geleia de uva por cima. \n",
            "\n"
          ]
        }
      ]
    }
  ]
}